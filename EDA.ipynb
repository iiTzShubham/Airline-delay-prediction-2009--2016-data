{
 "cells": [
  {
   "cell_type": "markdown",
   "id": "7512e561",
   "metadata": {
    "papermill": {
     "duration": 0.01553,
     "end_time": "2023-05-21T13:38:04.534727",
     "exception": false,
     "start_time": "2023-05-21T13:38:04.519197",
     "status": "completed"
    },
    "tags": []
   },
   "source": [
    "## 1. Imports and Initialization"
   ]
  },
  {
   "cell_type": "code",
   "execution_count": 1,
   "id": "1c083098-206a-420e-bb7f-7a9db0819284",
   "metadata": {},
   "outputs": [
    {
     "name": "stderr",
     "output_type": "stream",
     "text": [
      "java version \"22\" 2024-03-19\n",
      "Java(TM) SE Runtime Environment (build 22+36-2370)\n",
      "Java HotSpot(TM) 64-Bit Server VM (build 22+36-2370, mixed mode, sharing)\n"
     ]
    }
   ],
   "source": [
    "!java -version"
   ]
  },
  {
   "cell_type": "code",
   "execution_count": 2,
   "id": "cee332b8",
   "metadata": {
    "papermill": {
     "duration": 56.942692,
     "end_time": "2023-05-21T13:39:02.639117",
     "exception": false,
     "start_time": "2023-05-21T13:38:05.696425",
     "status": "completed"
    },
    "tags": []
   },
   "outputs": [],
   "source": [
    "\n",
    "import altair as alt\n",
    "\n",
    "from pyspark import SparkContext, SparkConf\n",
    "from pyspark.sql import SparkSession\n",
    "\n",
    "import pyspark.sql.functions as F\n",
    "import pyspark.sql.types as T \n",
    "from pyspark.ml.feature import OneHotEncoder, StringIndexer, VectorAssembler\n",
    "from pyspark.ml import Pipeline\n",
    "from pyspark.ml.classification import LogisticRegression, DecisionTreeClassifier, RandomForestClassifier, GBTClassifier\n",
    "from pyspark.ml.evaluation import BinaryClassificationEvaluator, MulticlassClassificationEvaluator\n",
    "\n",
    "import warnings\n",
    "warnings.filterwarnings('ignore')"
   ]
  },
  {
   "cell_type": "code",
   "execution_count": 3,
   "id": "ecb5294d",
   "metadata": {
    "papermill": {
     "duration": 5.820002,
     "end_time": "2023-05-21T13:39:08.485598",
     "exception": false,
     "start_time": "2023-05-21T13:39:02.665596",
     "status": "completed"
    },
    "tags": []
   },
   "outputs": [],
   "source": [
    "# initialize sparkSession\n",
    "spark = SparkSession.builder.config(\"spark.executor.memory\",\"2g\").getOrCreate()\n",
    "spark.sparkContext.setLogLevel(\"ERROR\")"
   ]
  },
  {
   "cell_type": "code",
   "execution_count": 4,
   "id": "68a4d876",
   "metadata": {
    "papermill": {
     "duration": 0.204802,
     "end_time": "2023-05-21T13:39:08.716450",
     "exception": false,
     "start_time": "2023-05-21T13:39:08.511648",
     "status": "completed"
    },
    "tags": []
   },
   "outputs": [],
   "source": [
    "spark.catalog.clearCache()"
   ]
  },
  {
   "cell_type": "markdown",
   "id": "d2945521",
   "metadata": {
    "papermill": {
     "duration": 0.025624,
     "end_time": "2023-05-21T13:39:08.767726",
     "exception": false,
     "start_time": "2023-05-21T13:39:08.742102",
     "status": "completed"
    },
    "tags": []
   },
   "source": [
    "## 2. Loading and Cleaning the Data"
   ]
  },
  {
   "cell_type": "code",
   "execution_count": 5,
   "id": "380d4c7d",
   "metadata": {
    "papermill": {
     "duration": 0.03563,
     "end_time": "2023-05-21T13:39:08.828792",
     "exception": false,
     "start_time": "2023-05-21T13:39:08.793162",
     "status": "completed"
    },
    "tags": []
   },
   "outputs": [],
   "source": [
    "file_names_range = list(range(2009, 2016))\n",
    "file_paths = [f'{file}.csv' for file in file_names_range]"
   ]
  },
  {
   "cell_type": "code",
   "execution_count": 6,
   "id": "a6b6f3de",
   "metadata": {
    "papermill": {
     "duration": 0.049157,
     "end_time": "2023-05-21T13:39:08.903592",
     "exception": false,
     "start_time": "2023-05-21T13:39:08.854435",
     "status": "completed"
    },
    "tags": []
   },
   "outputs": [],
   "source": [
    "schema = T.StructType([\n",
    "    T.StructField(\"FL_DATE\", T.TimestampType(), nullable=True),\n",
    "    T.StructField(\"OP_CARRIER\", T.StringType(), nullable=True),\n",
    "    T.StructField(\"OP_CARRIER_FL_NUM\", T.IntegerType(), nullable=True),\n",
    "    T.StructField(\"ORIGIN\", T.StringType(), nullable=True),\n",
    "    T.StructField(\"DEST\", T.StringType(), nullable=True),\n",
    "    T.StructField(\"CRS_DEP_TIME\", T.DoubleType(), nullable=True),\n",
    "    T.StructField(\"DEP_TIME\", T.DoubleType(), nullable=True),\n",
    "    T.StructField(\"DEP_DELAY\", T.DoubleType(), nullable=True),\n",
    "    T.StructField(\"TAXI_OUT\", T.DoubleType(), nullable=True),\n",
    "    T.StructField(\"WHEELS_OFF\", T.DoubleType(), nullable=True),\n",
    "    T.StructField(\"WHEELS_ON\", T.DoubleType(), nullable=True),\n",
    "    T.StructField(\"TAXI_IN\", T.DoubleType(), nullable=True),\n",
    "    T.StructField(\"CRS_ARR_TIME\", T.DoubleType(), nullable=True),\n",
    "    T.StructField(\"ARR_TIME\",T.DoubleType(), nullable=True),\n",
    "    T.StructField(\"ARR_DELAY\", T.DoubleType(), nullable=True),\n",
    "    T.StructField(\"CANCELLED\", T.DoubleType(), nullable=True),\n",
    "    T.StructField(\"CANCELLATION_CODE\", T.StringType(), nullable=True),\n",
    "    T.StructField(\"DIVERTED\", T.DoubleType(), nullable=True),\n",
    "    T.StructField(\"CRS_ELAPSED_TIME\", T.DoubleType(), nullable=True),\n",
    "    T.StructField(\"ACTUAL_ELAPSED_TIME\", T.DoubleType(), nullable=True),\n",
    "    T.StructField(\"AIR_TIME\", T.DoubleType(), nullable=True),\n",
    "    T.StructField(\"DISTANCE\", T.DoubleType(), nullable=True),\n",
    "    T.StructField(\"CARRIER_DELAY\", T.DoubleType(), nullable=True),\n",
    "    T.StructField(\"WEATHER_DELAY\", T.DoubleType(), nullable=True),\n",
    "    T.StructField(\"NAS_DELAY\", T.DoubleType(), nullable=True),\n",
    "    T.StructField(\"SECURITY_DELAY\", T.DoubleType(), nullable=True),\n",
    "    T.StructField(\"LATE_AIRCRAFT_DELAY\", T.DoubleType(), nullable=True),\n",
    "    T.StructField(\"Unnamed: 27\", T.StringType(), nullable=True)\n",
    "])"
   ]
  },
  {
   "cell_type": "code",
   "execution_count": 7,
   "id": "f41f94da",
   "metadata": {
    "papermill": {
     "duration": 3.735224,
     "end_time": "2023-05-21T13:39:12.664813",
     "exception": false,
     "start_time": "2023-05-21T13:39:08.929589",
     "status": "completed"
    },
    "tags": []
   },
   "outputs": [],
   "source": [
    "df = spark.read.schema(schema).format(\"csv\").option(\"header\", \"true\").load(file_paths)"
   ]
  },
  {
   "cell_type": "code",
   "execution_count": 8,
   "id": "98b3d20a",
   "metadata": {},
   "outputs": [
    {
     "name": "stdout",
     "output_type": "stream",
     "text": [
      "-RECORD 0-----------------------\n",
      " FL_DATE             | 0        \n",
      " OP_CARRIER          | 0        \n",
      " OP_CARRIER_FL_NUM   | 0        \n",
      " ORIGIN              | 0        \n",
      " DEST                | 0        \n",
      " CRS_DEP_TIME        | 1        \n",
      " DEP_TIME            | 679642   \n",
      " DEP_DELAY           | 679642   \n",
      " TAXI_OUT            | 700508   \n",
      " WHEELS_OFF          | 700508   \n",
      " WHEELS_ON           | 725252   \n",
      " TAXI_IN             | 725251   \n",
      " CRS_ARR_TIME        | 2        \n",
      " ARR_TIME            | 725252   \n",
      " ARR_DELAY           | 809587   \n",
      " CANCELLED           | 0        \n",
      " CANCELLATION_CODE   | 42343168 \n",
      " DIVERTED            | 0        \n",
      " CRS_ELAPSED_TIME    | 37       \n",
      " ACTUAL_ELAPSED_TIME | 809588   \n",
      " AIR_TIME            | 809587   \n",
      " DISTANCE            | 0        \n",
      " CARRIER_DELAY       | 35006921 \n",
      " WEATHER_DELAY       | 35006921 \n",
      " NAS_DELAY           | 35006921 \n",
      " SECURITY_DELAY      | 35006921 \n",
      " LATE_AIRCRAFT_DELAY | 35006921 \n",
      " Unnamed: 27         | 43051239 \n",
      "\n"
     ]
    }
   ],
   "source": [
    "from pyspark.sql.functions import col, count, when\n",
    "\n",
    "# Calculate the count of nulls for each column\n",
    "null_counts = df.select([count(when(col(c).isNull(), c)).alias(c) for c in df.columns])\n",
    "\n",
    "# Show the result\n",
    "null_counts.show(vertical=True)"
   ]
  },
  {
   "cell_type": "code",
   "execution_count": 9,
   "id": "e80c2887",
   "metadata": {
    "execution": {
     "iopub.execute_input": "2023-05-21T13:39:12.734709Z",
     "iopub.status.busy": "2023-05-21T13:39:12.733977Z",
     "iopub.status.idle": "2023-05-21T13:39:12.840642Z",
     "shell.execute_reply": "2023-05-21T13:39:12.839609Z"
    },
    "papermill": {
     "duration": 0.143432,
     "end_time": "2023-05-21T13:39:12.844355",
     "exception": false,
     "start_time": "2023-05-21T13:39:12.700923",
     "status": "completed"
    },
    "tags": []
   },
   "outputs": [],
   "source": [
    "# remove null values from the cols used for classification:\n",
    "df = df.dropna(subset= [\n",
    "    'FL_DATE',\n",
    " 'OP_CARRIER',\n",
    " 'OP_CARRIER_FL_NUM',\n",
    " 'ORIGIN',\n",
    " 'DEST',\n",
    " 'CRS_DEP_TIME',\n",
    " 'CRS_ARR_TIME',\n",
    " 'CANCELLED',\n",
    " 'DIVERTED',\n",
    " 'CRS_ELAPSED_TIME',\n",
    " 'DISTANCE'])\n",
    "\n",
    "# save df for analysis\n",
    "analysis_df = df"
   ]
  },
  {
   "cell_type": "code",
   "execution_count": 10,
   "id": "a427de44",
   "metadata": {
    "execution": {
     "iopub.execute_input": "2023-05-21T13:39:12.898162Z",
     "iopub.status.busy": "2023-05-21T13:39:12.897627Z",
     "iopub.status.idle": "2023-05-21T13:39:12.957405Z",
     "shell.execute_reply": "2023-05-21T13:39:12.955697Z"
    },
    "papermill": {
     "duration": 0.091151,
     "end_time": "2023-05-21T13:39:12.961117",
     "exception": false,
     "start_time": "2023-05-21T13:39:12.869966",
     "status": "completed"
    },
    "tags": []
   },
   "outputs": [],
   "source": [
    "# drop the cols who indirectly indicate if a flight is canelled or not (apart from the column CANCELLED)\n",
    "# most of those cols contain null values, if the flight is cancelled\n",
    "\n",
    "classify_df = df.drop(\"Unnamed: 27\", \n",
    "                        \"CARRIER_DELAY\", \n",
    "                        \"WEATHER_DELAY\",\n",
    "                        \"NAS_DELAY\",\n",
    "                        \"SECURITY_DELAY\",\n",
    "                        \"LATE_AIRCRAFT_DELAY\",\n",
    "                        \"CANCELLATION_CODE\",\n",
    "                        \"DEP_TIME\",\n",
    "                        \"DEP_DELAY\",\n",
    "                        \"TAXI_OUT\",\n",
    "                        \"WHEELS_OFF\",\n",
    "                        \"WHEELS_ON\",\n",
    "                        \"TAXI_IN\",\n",
    "                        \"ARR_TIME\",\n",
    "                        \"ARR_DELAY\",\n",
    "                        \"ACTUAL_ELAPSED_TIME\", \n",
    "                        \"AIR_TIME\")"
   ]
  },
  {
   "cell_type": "code",
   "execution_count": 11,
   "id": "8eee18e4",
   "metadata": {
    "execution": {
     "iopub.execute_input": "2023-05-21T13:39:13.014558Z",
     "iopub.status.busy": "2023-05-21T13:39:13.014114Z",
     "iopub.status.idle": "2023-05-21T13:39:13.107483Z",
     "shell.execute_reply": "2023-05-21T13:39:13.106337Z"
    },
    "papermill": {
     "duration": 0.125424,
     "end_time": "2023-05-21T13:39:13.112230",
     "exception": false,
     "start_time": "2023-05-21T13:39:12.986806",
     "status": "completed"
    },
    "tags": []
   },
   "outputs": [],
   "source": [
    "# numerical timestamp column\n",
    "classify_df = classify_df.withColumn(\"FL_DATE\", F.unix_timestamp(\"FL_DATE\"))"
   ]
  },
  {
   "cell_type": "code",
   "execution_count": 12,
   "id": "5e375600",
   "metadata": {
    "execution": {
     "iopub.execute_input": "2023-05-21T13:39:13.166323Z",
     "iopub.status.busy": "2023-05-21T13:39:13.165843Z",
     "iopub.status.idle": "2023-05-21T13:39:13.196389Z",
     "shell.execute_reply": "2023-05-21T13:39:13.195337Z"
    },
    "papermill": {
     "duration": 0.059953,
     "end_time": "2023-05-21T13:39:13.198830",
     "exception": false,
     "start_time": "2023-05-21T13:39:13.138877",
     "status": "completed"
    },
    "tags": []
   },
   "outputs": [
    {
     "data": {
      "text/plain": [
       "['FL_DATE',\n",
       " 'OP_CARRIER',\n",
       " 'OP_CARRIER_FL_NUM',\n",
       " 'ORIGIN',\n",
       " 'DEST',\n",
       " 'CRS_DEP_TIME',\n",
       " 'CRS_ARR_TIME',\n",
       " 'CANCELLED',\n",
       " 'DIVERTED',\n",
       " 'CRS_ELAPSED_TIME',\n",
       " 'DISTANCE']"
      ]
     },
     "execution_count": 12,
     "metadata": {},
     "output_type": "execute_result"
    }
   ],
   "source": [
    "classify_df.columns"
   ]
  },
  {
   "cell_type": "code",
   "execution_count": 13,
   "id": "d0097cd9",
   "metadata": {
    "execution": {
     "iopub.execute_input": "2023-05-21T13:39:13.253517Z",
     "iopub.status.busy": "2023-05-21T13:39:13.252656Z",
     "iopub.status.idle": "2023-05-21T13:40:23.292362Z",
     "shell.execute_reply": "2023-05-21T13:40:23.290787Z"
    },
    "papermill": {
     "duration": 70.073916,
     "end_time": "2023-05-21T13:40:23.298419",
     "exception": false,
     "start_time": "2023-05-21T13:39:13.224503",
     "status": "completed"
    },
    "tags": []
   },
   "outputs": [],
   "source": [
    "# Take a subset: either balanced (with subsampling) or unbalanced\n",
    "# we take a subset, because of memory limitations\n",
    "\n",
    "# select subsample of positive samples\n",
    "pos_df = classify_df.filter(F.col('CANCELLED').isin(1)).sample(fraction=0.1)\n",
    "# select an equal amount of negative samples (number of neg samples == number of pos samples)\n",
    "neg_df = classify_df.filter(F.col('CANCELLED').isin(0)).orderBy(F.rand()).limit(pos_df.count())\n",
    "\n",
    "\n",
    "# balanced df - a subset - around 141k\n",
    "classify_df = pos_df.union(neg_df).sample(fraction=1.0).cache()\n",
    "\n",
    "# unbalanced df - but a subset - around 215k\n",
    "#classify_df = classify_df.sample(fraction=0.005).cache() "
   ]
  },
  {
   "cell_type": "code",
   "execution_count": 14,
   "id": "12c342b0",
   "metadata": {
    "execution": {
     "iopub.execute_input": "2023-05-21T13:40:23.412398Z",
     "iopub.status.busy": "2023-05-21T13:40:23.411753Z",
     "iopub.status.idle": "2023-05-21T13:40:23.417884Z",
     "shell.execute_reply": "2023-05-21T13:40:23.416420Z"
    },
    "papermill": {
     "duration": 0.070542,
     "end_time": "2023-05-21T13:40:23.423183",
     "exception": false,
     "start_time": "2023-05-21T13:40:23.352641",
     "status": "completed"
    },
    "tags": []
   },
   "outputs": [],
   "source": [
    "#classify_df.rdd.countApprox(timeout = 1000,confidence = 0.90)"
   ]
  },
  {
   "cell_type": "markdown",
   "id": "c23c8644",
   "metadata": {
    "papermill": {
     "duration": 0.055604,
     "end_time": "2023-05-21T13:40:23.532935",
     "exception": false,
     "start_time": "2023-05-21T13:40:23.477331",
     "status": "completed"
    },
    "tags": []
   },
   "source": [
    "## 3. Analysis (on the analysis_df)"
   ]
  },
  {
   "cell_type": "code",
   "execution_count": 15,
   "id": "7dfeb158",
   "metadata": {
    "execution": {
     "iopub.execute_input": "2023-05-21T13:40:23.615347Z",
     "iopub.status.busy": "2023-05-21T13:40:23.614241Z",
     "iopub.status.idle": "2023-05-21T13:41:47.826923Z",
     "shell.execute_reply": "2023-05-21T13:41:47.825123Z"
    },
    "papermill": {
     "duration": 84.251754,
     "end_time": "2023-05-21T13:41:47.831032",
     "exception": false,
     "start_time": "2023-05-21T13:40:23.579278",
     "status": "completed"
    },
    "tags": []
   },
   "outputs": [
    {
     "data": {
      "text/html": [
       "<div>\n",
       "<style scoped>\n",
       "    .dataframe tbody tr th:only-of-type {\n",
       "        vertical-align: middle;\n",
       "    }\n",
       "\n",
       "    .dataframe tbody tr th {\n",
       "        vertical-align: top;\n",
       "    }\n",
       "\n",
       "    .dataframe thead th {\n",
       "        text-align: right;\n",
       "    }\n",
       "</style>\n",
       "<table border=\"1\" class=\"dataframe\">\n",
       "  <thead>\n",
       "    <tr style=\"text-align: right;\">\n",
       "      <th></th>\n",
       "      <th>Carrier</th>\n",
       "      <th>count</th>\n",
       "    </tr>\n",
       "  </thead>\n",
       "  <tbody>\n",
       "    <tr>\n",
       "      <th>0</th>\n",
       "      <td>WN</td>\n",
       "      <td>8115099</td>\n",
       "    </tr>\n",
       "    <tr>\n",
       "      <th>1</th>\n",
       "      <td>DL</td>\n",
       "      <td>5046291</td>\n",
       "    </tr>\n",
       "    <tr>\n",
       "      <th>2</th>\n",
       "      <td>OO</td>\n",
       "      <td>4176455</td>\n",
       "    </tr>\n",
       "    <tr>\n",
       "      <th>3</th>\n",
       "      <td>AA</td>\n",
       "      <td>3954500</td>\n",
       "    </tr>\n",
       "    <tr>\n",
       "      <th>4</th>\n",
       "      <td>EV</td>\n",
       "      <td>3693024</td>\n",
       "    </tr>\n",
       "    <tr>\n",
       "      <th>5</th>\n",
       "      <td>UA</td>\n",
       "      <td>3075545</td>\n",
       "    </tr>\n",
       "    <tr>\n",
       "      <th>6</th>\n",
       "      <td>MQ</td>\n",
       "      <td>2920259</td>\n",
       "    </tr>\n",
       "    <tr>\n",
       "      <th>7</th>\n",
       "      <td>US</td>\n",
       "      <td>2657286</td>\n",
       "    </tr>\n",
       "    <tr>\n",
       "      <th>8</th>\n",
       "      <td>B6</td>\n",
       "      <td>1597829</td>\n",
       "    </tr>\n",
       "    <tr>\n",
       "      <th>9</th>\n",
       "      <td>FL</td>\n",
       "      <td>1218388</td>\n",
       "    </tr>\n",
       "  </tbody>\n",
       "</table>\n",
       "</div>"
      ],
      "text/plain": [
       "  Carrier    count\n",
       "0      WN  8115099\n",
       "1      DL  5046291\n",
       "2      OO  4176455\n",
       "3      AA  3954500\n",
       "4      EV  3693024\n",
       "5      UA  3075545\n",
       "6      MQ  2920259\n",
       "7      US  2657286\n",
       "8      B6  1597829\n",
       "9      FL  1218388"
      ]
     },
     "execution_count": 15,
     "metadata": {},
     "output_type": "execute_result"
    }
   ],
   "source": [
    "# get the most present flight carriers\n",
    "carriers_flight_count_df = analysis_df.groupBy(F.col('OP_CARRIER')).count().orderBy(F.col('count').desc())\n",
    "top_10 = carriers_flight_count_df.limit(10).toPandas()\n",
    "top_10 = top_10.rename(columns={'OP_CARRIER':'Carrier'})\n",
    "top_10"
   ]
  },
  {
   "cell_type": "code",
   "execution_count": 16,
   "id": "fc547b19",
   "metadata": {
    "execution": {
     "iopub.execute_input": "2023-05-21T13:41:47.919348Z",
     "iopub.status.busy": "2023-05-21T13:41:47.918147Z",
     "iopub.status.idle": "2023-05-21T13:41:48.160786Z",
     "shell.execute_reply": "2023-05-21T13:41:48.159640Z"
    },
    "papermill": {
     "duration": 0.291835,
     "end_time": "2023-05-21T13:41:48.164517",
     "exception": false,
     "start_time": "2023-05-21T13:41:47.872682",
     "status": "completed"
    },
    "tags": []
   },
   "outputs": [
    {
     "data": {
      "text/html": [
       "\n",
       "<style>\n",
       "  #altair-viz-5bd84e4c517b4165b431a535f006d9fe.vega-embed {\n",
       "    width: 100%;\n",
       "    display: flex;\n",
       "  }\n",
       "\n",
       "  #altair-viz-5bd84e4c517b4165b431a535f006d9fe.vega-embed details,\n",
       "  #altair-viz-5bd84e4c517b4165b431a535f006d9fe.vega-embed details summary {\n",
       "    position: relative;\n",
       "  }\n",
       "</style>\n",
       "<div id=\"altair-viz-5bd84e4c517b4165b431a535f006d9fe\"></div>\n",
       "<script type=\"text/javascript\">\n",
       "  var VEGA_DEBUG = (typeof VEGA_DEBUG == \"undefined\") ? {} : VEGA_DEBUG;\n",
       "  (function(spec, embedOpt){\n",
       "    let outputDiv = document.currentScript.previousElementSibling;\n",
       "    if (outputDiv.id !== \"altair-viz-5bd84e4c517b4165b431a535f006d9fe\") {\n",
       "      outputDiv = document.getElementById(\"altair-viz-5bd84e4c517b4165b431a535f006d9fe\");\n",
       "    }\n",
       "    const paths = {\n",
       "      \"vega\": \"https://cdn.jsdelivr.net/npm/vega@5?noext\",\n",
       "      \"vega-lib\": \"https://cdn.jsdelivr.net/npm/vega-lib?noext\",\n",
       "      \"vega-lite\": \"https://cdn.jsdelivr.net/npm/vega-lite@5.8.0?noext\",\n",
       "      \"vega-embed\": \"https://cdn.jsdelivr.net/npm/vega-embed@6?noext\",\n",
       "    };\n",
       "\n",
       "    function maybeLoadScript(lib, version) {\n",
       "      var key = `${lib.replace(\"-\", \"\")}_version`;\n",
       "      return (VEGA_DEBUG[key] == version) ?\n",
       "        Promise.resolve(paths[lib]) :\n",
       "        new Promise(function(resolve, reject) {\n",
       "          var s = document.createElement('script');\n",
       "          document.getElementsByTagName(\"head\")[0].appendChild(s);\n",
       "          s.async = true;\n",
       "          s.onload = () => {\n",
       "            VEGA_DEBUG[key] = version;\n",
       "            return resolve(paths[lib]);\n",
       "          };\n",
       "          s.onerror = () => reject(`Error loading script: ${paths[lib]}`);\n",
       "          s.src = paths[lib];\n",
       "        });\n",
       "    }\n",
       "\n",
       "    function showError(err) {\n",
       "      outputDiv.innerHTML = `<div class=\"error\" style=\"color:red;\">${err}</div>`;\n",
       "      throw err;\n",
       "    }\n",
       "\n",
       "    function displayChart(vegaEmbed) {\n",
       "      vegaEmbed(outputDiv, spec, embedOpt)\n",
       "        .catch(err => showError(`Javascript Error: ${err.message}<br>This usually means there's a typo in your chart specification. See the javascript console for the full traceback.`));\n",
       "    }\n",
       "\n",
       "    if(typeof define === \"function\" && define.amd) {\n",
       "      requirejs.config({paths});\n",
       "      require([\"vega-embed\"], displayChart, err => showError(`Error loading script: ${err.message}`));\n",
       "    } else {\n",
       "      maybeLoadScript(\"vega\", \"5\")\n",
       "        .then(() => maybeLoadScript(\"vega-lite\", \"5.8.0\"))\n",
       "        .then(() => maybeLoadScript(\"vega-embed\", \"6\"))\n",
       "        .catch(showError)\n",
       "        .then(() => displayChart(vegaEmbed));\n",
       "    }\n",
       "  })({\"config\": {\"view\": {\"continuousWidth\": 300, \"continuousHeight\": 300, \"strokeWidth\": 0}, \"title\": {\"fontSize\": 18}}, \"layer\": [{\"mark\": {\"type\": \"arc\", \"innerRadius\": 75, \"outerRadius\": 260}, \"encoding\": {\"color\": {\"field\": \"Carrier\", \"legend\": null, \"scale\": {\"scheme\": \"category20\"}, \"type\": \"nominal\"}, \"theta\": {\"field\": \"count\", \"stack\": true, \"type\": \"quantitative\"}}, \"title\": \"Top 10 Carriers by amount of flights\"}, {\"mark\": {\"type\": \"text\", \"radius\": 200, \"size\": 15}, \"encoding\": {\"color\": {\"value\": \"#000000\"}, \"text\": {\"field\": \"Carrier\", \"type\": \"nominal\"}, \"theta\": {\"field\": \"count\", \"stack\": true, \"type\": \"quantitative\"}}, \"title\": \"Top 10 Carriers by amount of flights\"}, {\"mark\": {\"type\": \"text\", \"radius\": 300, \"size\": 15}, \"encoding\": {\"color\": {\"field\": \"Carrier\", \"legend\": null, \"scale\": {\"scheme\": \"category20\"}, \"type\": \"nominal\"}, \"text\": {\"field\": \"count\", \"type\": \"quantitative\"}, \"theta\": {\"field\": \"count\", \"stack\": true, \"type\": \"quantitative\"}}, \"title\": \"Top 10 Carriers by amount of flights\"}], \"data\": {\"name\": \"data-1e97e2722649077a2a13c05beb8faba8\"}, \"height\": 300, \"width\": 600, \"$schema\": \"https://vega.github.io/schema/vega-lite/v5.8.0.json\", \"datasets\": {\"data-1e97e2722649077a2a13c05beb8faba8\": [{\"Carrier\": \"WN\", \"count\": 8115099}, {\"Carrier\": \"DL\", \"count\": 5046291}, {\"Carrier\": \"OO\", \"count\": 4176455}, {\"Carrier\": \"AA\", \"count\": 3954500}, {\"Carrier\": \"EV\", \"count\": 3693024}, {\"Carrier\": \"UA\", \"count\": 3075545}, {\"Carrier\": \"MQ\", \"count\": 2920259}, {\"Carrier\": \"US\", \"count\": 2657286}, {\"Carrier\": \"B6\", \"count\": 1597829}, {\"Carrier\": \"FL\", \"count\": 1218388}]}}, {\"mode\": \"vega-lite\"});\n",
       "</script>"
      ],
      "text/plain": [
       "alt.LayerChart(...)"
      ]
     },
     "execution_count": 16,
     "metadata": {},
     "output_type": "execute_result"
    }
   ],
   "source": [
    "# visualisation\n",
    "chart = alt.Chart(top_10).mark_arc(outerRadius=260, innerRadius=75).encode(\n",
    "    theta = alt.Theta(field=\"count\", type=\"quantitative\", stack=True),\n",
    "    color = alt.Color('Carrier:N', scale=alt.Scale(scheme='category20'), legend=None),\n",
    ").properties(\n",
    "    title='Top 10 Carriers by amount of flights',\n",
    "    width=600,\n",
    "    height=300\n",
    ")\n",
    "\n",
    "pie = chart.mark_arc(outerRadius=350)\n",
    "value_text = pie.mark_text(radius=300, size=15).encode(text=alt.Text('count:Q'))\n",
    "\n",
    "pie2 = chart.mark_arc(outerRadius=250)\n",
    "text = pie2.mark_text(radius=200, size=15).encode(\n",
    "    text=alt.Text('Carrier:N'), \n",
    "    color=alt.value(\"#000000\")\n",
    ")\n",
    "\n",
    "(chart + text + value_text).configure_view(\n",
    "    strokeWidth=0\n",
    ").configure_title(\n",
    "    fontSize=18\n",
    ")"
   ]
  },
  {
   "cell_type": "code",
   "execution_count": 17,
   "id": "7e2b8f25",
   "metadata": {
    "execution": {
     "iopub.execute_input": "2023-05-21T13:41:48.231869Z",
     "iopub.status.busy": "2023-05-21T13:41:48.231437Z",
     "iopub.status.idle": "2023-05-21T13:42:53.543646Z",
     "shell.execute_reply": "2023-05-21T13:42:53.542119Z"
    },
    "papermill": {
     "duration": 65.352684,
     "end_time": "2023-05-21T13:42:53.551861",
     "exception": false,
     "start_time": "2023-05-21T13:41:48.199177",
     "status": "completed"
    },
    "tags": []
   },
   "outputs": [
    {
     "data": {
      "text/html": [
       "<div>\n",
       "<style scoped>\n",
       "    .dataframe tbody tr th:only-of-type {\n",
       "        vertical-align: middle;\n",
       "    }\n",
       "\n",
       "    .dataframe tbody tr th {\n",
       "        vertical-align: top;\n",
       "    }\n",
       "\n",
       "    .dataframe thead th {\n",
       "        text-align: right;\n",
       "    }\n",
       "</style>\n",
       "<table border=\"1\" class=\"dataframe\">\n",
       "  <thead>\n",
       "    <tr style=\"text-align: right;\">\n",
       "      <th></th>\n",
       "      <th>CANCELLATION_CODE</th>\n",
       "      <th>count</th>\n",
       "    </tr>\n",
       "  </thead>\n",
       "  <tbody>\n",
       "    <tr>\n",
       "      <th>0</th>\n",
       "      <td>B</td>\n",
       "      <td>331529</td>\n",
       "    </tr>\n",
       "    <tr>\n",
       "      <th>1</th>\n",
       "      <td>C</td>\n",
       "      <td>129128</td>\n",
       "    </tr>\n",
       "    <tr>\n",
       "      <th>2</th>\n",
       "      <td>A</td>\n",
       "      <td>247074</td>\n",
       "    </tr>\n",
       "    <tr>\n",
       "      <th>3</th>\n",
       "      <td>D</td>\n",
       "      <td>319</td>\n",
       "    </tr>\n",
       "  </tbody>\n",
       "</table>\n",
       "</div>"
      ],
      "text/plain": [
       "  CANCELLATION_CODE   count\n",
       "0                 B  331529\n",
       "1                 C  129128\n",
       "2                 A  247074\n",
       "3                 D     319"
      ]
     },
     "execution_count": 17,
     "metadata": {},
     "output_type": "execute_result"
    }
   ],
   "source": [
    "# count number of cancellations per code/reason\n",
    "carriers_flight_count_df = analysis_df.filter(F.col('CANCELLATION_CODE').isNotNull()).groupBy(F.col('CANCELLATION_CODE')).count()\n",
    "cancellation_reasons = carriers_flight_count_df.toPandas()\n",
    "cancellation_reasons"
   ]
  },
  {
   "cell_type": "code",
   "execution_count": 18,
   "id": "f6ec58a2",
   "metadata": {
    "execution": {
     "iopub.execute_input": "2023-05-21T13:42:53.652277Z",
     "iopub.status.busy": "2023-05-21T13:42:53.651632Z",
     "iopub.status.idle": "2023-05-21T13:42:53.677818Z",
     "shell.execute_reply": "2023-05-21T13:42:53.676563Z"
    },
    "papermill": {
     "duration": 0.082803,
     "end_time": "2023-05-21T13:42:53.681086",
     "exception": false,
     "start_time": "2023-05-21T13:42:53.598283",
     "status": "completed"
    },
    "tags": []
   },
   "outputs": [],
   "source": [
    "# rename col values\n",
    "cancellation_reasons['CANCELLATION_CODE'][cancellation_reasons['CANCELLATION_CODE'] == 'A'] = 'By carrier'\n",
    "cancellation_reasons['CANCELLATION_CODE'][cancellation_reasons['CANCELLATION_CODE'] == 'B'] = 'Due to weather'\n",
    "cancellation_reasons['CANCELLATION_CODE'][cancellation_reasons['CANCELLATION_CODE'] == 'C'] = 'By national air system'\n",
    "cancellation_reasons['CANCELLATION_CODE'][cancellation_reasons['CANCELLATION_CODE'] == 'D'] = 'For security'\n",
    "cancellation_reasons = cancellation_reasons.rename(columns={'CANCELLATION_CODE':'Reason'})"
   ]
  },
  {
   "cell_type": "code",
   "execution_count": 19,
   "id": "283bf59c",
   "metadata": {
    "execution": {
     "iopub.execute_input": "2023-05-21T13:42:53.751146Z",
     "iopub.status.busy": "2023-05-21T13:42:53.750178Z",
     "iopub.status.idle": "2023-05-21T13:42:53.762558Z",
     "shell.execute_reply": "2023-05-21T13:42:53.761166Z"
    },
    "papermill": {
     "duration": 0.050826,
     "end_time": "2023-05-21T13:42:53.765611",
     "exception": false,
     "start_time": "2023-05-21T13:42:53.714785",
     "status": "completed"
    },
    "tags": []
   },
   "outputs": [
    {
     "data": {
      "text/html": [
       "<div>\n",
       "<style scoped>\n",
       "    .dataframe tbody tr th:only-of-type {\n",
       "        vertical-align: middle;\n",
       "    }\n",
       "\n",
       "    .dataframe tbody tr th {\n",
       "        vertical-align: top;\n",
       "    }\n",
       "\n",
       "    .dataframe thead th {\n",
       "        text-align: right;\n",
       "    }\n",
       "</style>\n",
       "<table border=\"1\" class=\"dataframe\">\n",
       "  <thead>\n",
       "    <tr style=\"text-align: right;\">\n",
       "      <th></th>\n",
       "      <th>Reason</th>\n",
       "      <th>count</th>\n",
       "    </tr>\n",
       "  </thead>\n",
       "  <tbody>\n",
       "    <tr>\n",
       "      <th>0</th>\n",
       "      <td>Due to weather</td>\n",
       "      <td>331529</td>\n",
       "    </tr>\n",
       "    <tr>\n",
       "      <th>1</th>\n",
       "      <td>By national air system</td>\n",
       "      <td>129128</td>\n",
       "    </tr>\n",
       "    <tr>\n",
       "      <th>2</th>\n",
       "      <td>By carrier</td>\n",
       "      <td>247074</td>\n",
       "    </tr>\n",
       "    <tr>\n",
       "      <th>3</th>\n",
       "      <td>For security</td>\n",
       "      <td>319</td>\n",
       "    </tr>\n",
       "  </tbody>\n",
       "</table>\n",
       "</div>"
      ],
      "text/plain": [
       "                   Reason   count\n",
       "0          Due to weather  331529\n",
       "1  By national air system  129128\n",
       "2              By carrier  247074\n",
       "3            For security     319"
      ]
     },
     "execution_count": 19,
     "metadata": {},
     "output_type": "execute_result"
    }
   ],
   "source": [
    "cancellation_reasons"
   ]
  },
  {
   "cell_type": "code",
   "execution_count": 20,
   "id": "de5602b1",
   "metadata": {
    "execution": {
     "iopub.execute_input": "2023-05-21T13:42:53.836199Z",
     "iopub.status.busy": "2023-05-21T13:42:53.835224Z",
     "iopub.status.idle": "2023-05-21T13:42:54.013571Z",
     "shell.execute_reply": "2023-05-21T13:42:54.011992Z"
    },
    "papermill": {
     "duration": 0.217262,
     "end_time": "2023-05-21T13:42:54.016905",
     "exception": false,
     "start_time": "2023-05-21T13:42:53.799643",
     "status": "completed"
    },
    "tags": []
   },
   "outputs": [
    {
     "data": {
      "text/html": [
       "\n",
       "<style>\n",
       "  #altair-viz-2485f9fb52354299af0b8f3022428083.vega-embed {\n",
       "    width: 100%;\n",
       "    display: flex;\n",
       "  }\n",
       "\n",
       "  #altair-viz-2485f9fb52354299af0b8f3022428083.vega-embed details,\n",
       "  #altair-viz-2485f9fb52354299af0b8f3022428083.vega-embed details summary {\n",
       "    position: relative;\n",
       "  }\n",
       "</style>\n",
       "<div id=\"altair-viz-2485f9fb52354299af0b8f3022428083\"></div>\n",
       "<script type=\"text/javascript\">\n",
       "  var VEGA_DEBUG = (typeof VEGA_DEBUG == \"undefined\") ? {} : VEGA_DEBUG;\n",
       "  (function(spec, embedOpt){\n",
       "    let outputDiv = document.currentScript.previousElementSibling;\n",
       "    if (outputDiv.id !== \"altair-viz-2485f9fb52354299af0b8f3022428083\") {\n",
       "      outputDiv = document.getElementById(\"altair-viz-2485f9fb52354299af0b8f3022428083\");\n",
       "    }\n",
       "    const paths = {\n",
       "      \"vega\": \"https://cdn.jsdelivr.net/npm/vega@5?noext\",\n",
       "      \"vega-lib\": \"https://cdn.jsdelivr.net/npm/vega-lib?noext\",\n",
       "      \"vega-lite\": \"https://cdn.jsdelivr.net/npm/vega-lite@5.8.0?noext\",\n",
       "      \"vega-embed\": \"https://cdn.jsdelivr.net/npm/vega-embed@6?noext\",\n",
       "    };\n",
       "\n",
       "    function maybeLoadScript(lib, version) {\n",
       "      var key = `${lib.replace(\"-\", \"\")}_version`;\n",
       "      return (VEGA_DEBUG[key] == version) ?\n",
       "        Promise.resolve(paths[lib]) :\n",
       "        new Promise(function(resolve, reject) {\n",
       "          var s = document.createElement('script');\n",
       "          document.getElementsByTagName(\"head\")[0].appendChild(s);\n",
       "          s.async = true;\n",
       "          s.onload = () => {\n",
       "            VEGA_DEBUG[key] = version;\n",
       "            return resolve(paths[lib]);\n",
       "          };\n",
       "          s.onerror = () => reject(`Error loading script: ${paths[lib]}`);\n",
       "          s.src = paths[lib];\n",
       "        });\n",
       "    }\n",
       "\n",
       "    function showError(err) {\n",
       "      outputDiv.innerHTML = `<div class=\"error\" style=\"color:red;\">${err}</div>`;\n",
       "      throw err;\n",
       "    }\n",
       "\n",
       "    function displayChart(vegaEmbed) {\n",
       "      vegaEmbed(outputDiv, spec, embedOpt)\n",
       "        .catch(err => showError(`Javascript Error: ${err.message}<br>This usually means there's a typo in your chart specification. See the javascript console for the full traceback.`));\n",
       "    }\n",
       "\n",
       "    if(typeof define === \"function\" && define.amd) {\n",
       "      requirejs.config({paths});\n",
       "      require([\"vega-embed\"], displayChart, err => showError(`Error loading script: ${err.message}`));\n",
       "    } else {\n",
       "      maybeLoadScript(\"vega\", \"5\")\n",
       "        .then(() => maybeLoadScript(\"vega-lite\", \"5.8.0\"))\n",
       "        .then(() => maybeLoadScript(\"vega-embed\", \"6\"))\n",
       "        .catch(showError)\n",
       "        .then(() => displayChart(vegaEmbed));\n",
       "    }\n",
       "  })({\"config\": {\"view\": {\"continuousWidth\": 300, \"continuousHeight\": 300, \"strokeWidth\": 0}, \"title\": {\"fontSize\": 18}}, \"layer\": [{\"mark\": {\"type\": \"arc\", \"innerRadius\": 50, \"outerRadius\": 180}, \"encoding\": {\"color\": {\"field\": \"Reason\", \"legend\": null, \"scale\": {\"scheme\": \"category20\"}, \"type\": \"nominal\"}, \"theta\": {\"field\": \"count\", \"stack\": true, \"type\": \"quantitative\"}}, \"title\": \"Reasons for flight cancellations\"}, {\"mark\": {\"type\": \"text\", \"radius\": 120, \"size\": 12}, \"encoding\": {\"color\": {\"value\": \"#000000\"}, \"text\": {\"field\": \"Reason\", \"type\": \"nominal\"}, \"theta\": {\"field\": \"count\", \"stack\": true, \"type\": \"quantitative\"}}, \"title\": \"Reasons for flight cancellations\"}, {\"mark\": {\"type\": \"text\", \"radius\": 220, \"size\": 15}, \"encoding\": {\"color\": {\"field\": \"Reason\", \"legend\": null, \"scale\": {\"scheme\": \"category20\"}, \"type\": \"nominal\"}, \"text\": {\"field\": \"count\", \"type\": \"quantitative\"}, \"theta\": {\"field\": \"count\", \"stack\": true, \"type\": \"quantitative\"}}, \"title\": \"Reasons for flight cancellations\"}], \"data\": {\"name\": \"data-8a0b0ce67db32e19e56ff890149e8cf2\"}, \"height\": 300, \"width\": 600, \"$schema\": \"https://vega.github.io/schema/vega-lite/v5.8.0.json\", \"datasets\": {\"data-8a0b0ce67db32e19e56ff890149e8cf2\": [{\"Reason\": \"Due to weather\", \"count\": 331529}, {\"Reason\": \"By national air system\", \"count\": 129128}, {\"Reason\": \"By carrier\", \"count\": 247074}, {\"Reason\": \"For security\", \"count\": 319}]}}, {\"mode\": \"vega-lite\"});\n",
       "</script>"
      ],
      "text/plain": [
       "alt.LayerChart(...)"
      ]
     },
     "execution_count": 20,
     "metadata": {},
     "output_type": "execute_result"
    }
   ],
   "source": [
    "# visualisation of calcellation reasons\n",
    "chart = alt.Chart(cancellation_reasons).mark_arc(outerRadius=180, innerRadius=50).encode(\n",
    "    theta = alt.Theta(field=\"count\", type=\"quantitative\", stack=True),\n",
    "    color = alt.Color('Reason:N', scale=alt.Scale(scheme='category20'), legend=None),\n",
    ").properties(\n",
    "    title='Reasons for flight cancellations',\n",
    "    width=600,\n",
    "    height=300\n",
    ")\n",
    "\n",
    "pie = chart.mark_arc(outerRadius=250)\n",
    "value_text = pie.mark_text(radius=220, size=15).encode(text=alt.Text('count:Q'))\n",
    "\n",
    "pie2 = chart.mark_arc(outerRadius=150)\n",
    "text = pie2.mark_text(radius=120, size=12).encode(\n",
    "    text=alt.Text('Reason:N'), \n",
    "    color=alt.value(\"#000000\")\n",
    ")\n",
    "\n",
    "(chart + text + value_text).configure_view(\n",
    "    strokeWidth=0\n",
    ").configure_title(\n",
    "    fontSize=18\n",
    ")"
   ]
  }
 ],
 "metadata": {
  "kernelspec": {
   "display_name": "Python 3 (ipykernel)",
   "language": "python",
   "name": "python3"
  },
  "language_info": {
   "codemirror_mode": {
    "name": "ipython",
    "version": 3
   },
   "file_extension": ".py",
   "mimetype": "text/x-python",
   "name": "python",
   "nbconvert_exporter": "python",
   "pygments_lexer": "ipython3",
   "version": "3.11.7"
  },
  "papermill": {
   "default_parameters": {},
   "duration": 614.36019,
   "end_time": "2023-05-21T13:48:04.045803",
   "environment_variables": {},
   "exception": null,
   "input_path": "__notebook__.ipynb",
   "output_path": "__notebook__.ipynb",
   "parameters": {},
   "start_time": "2023-05-21T13:37:49.685613",
   "version": "2.4.0"
  }
 },
 "nbformat": 4,
 "nbformat_minor": 5
}
